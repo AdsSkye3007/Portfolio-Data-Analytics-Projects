{
  "nbformat": 4,
  "nbformat_minor": 0,
  "metadata": {
    "colab": {
      "provenance": [],
      "authorship_tag": "ABX9TyM2KnVyT1J+O0WcLO2MYqpg",
      "include_colab_link": true
    },
    "kernelspec": {
      "name": "python3",
      "display_name": "Python 3"
    },
    "language_info": {
      "name": "python"
    }
  },
  "cells": [
    {
      "cell_type": "markdown",
      "metadata": {
        "id": "view-in-github",
        "colab_type": "text"
      },
      "source": [
        "<a href=\"https://colab.research.google.com/github/AdsSkye3007/Portfolio-Data-Analytics-Projects/blob/main/AdilaFile.ipynb\" target=\"_parent\"><img src=\"https://colab.research.google.com/assets/colab-badge.svg\" alt=\"Open In Colab\"/></a>"
      ]
    },
    {
      "cell_type": "code",
      "execution_count": 5,
      "metadata": {
        "colab": {
          "base_uri": "https://localhost:8080/"
        },
        "id": "nbWemRNbfZEq",
        "outputId": "21109449-dc57-49d6-9d3e-2f69d389c714"
      },
      "outputs": [
        {
          "output_type": "stream",
          "name": "stdout",
          "text": [
            "helloasdf4asdffu\n"
          ]
        }
      ],
      "source": [
        "print('hello',2+2,'fu',sep='asdf')\n"
      ]
    },
    {
      "cell_type": "code",
      "source": [
        "#FU\n",
        "2+2"
      ],
      "metadata": {
        "id": "RSassjA4okJJ",
        "outputId": "77249f86-0a52-4b09-cc3b-2dbc497a6673",
        "colab": {
          "base_uri": "https://localhost:8080/"
        }
      },
      "execution_count": 6,
      "outputs": [
        {
          "output_type": "execute_result",
          "data": {
            "text/plain": [
              "4"
            ]
          },
          "metadata": {},
          "execution_count": 6
        }
      ]
    }
  ]
}